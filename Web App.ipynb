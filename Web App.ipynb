{
 "cells": [
  {
   "cell_type": "markdown",
   "id": "a856b427",
   "metadata": {},
   "source": [
    "# Web app"
   ]
  },
  {
   "cell_type": "code",
   "execution_count": 2,
   "id": "57deb623",
   "metadata": {},
   "outputs": [
    {
     "data": {
      "text/html": [
       "\n",
       "        <iframe\n",
       "            width=\"100%\"\n",
       "            height=\"650\"\n",
       "            src=\"http://127.0.0.1:8050/\"\n",
       "            frameborder=\"0\"\n",
       "            allowfullscreen\n",
       "        ></iframe>\n",
       "        "
      ],
      "text/plain": [
       "<IPython.lib.display.IFrame at 0x24bede54ca0>"
      ]
     },
     "metadata": {},
     "output_type": "display_data"
    },
    {
     "name": "stdout",
     "output_type": "stream",
     "text": [
      "1/1 [==============================] - 1s 1s/step\n",
      "1/1 [==============================] - 0s 191ms/step\n",
      "1/1 [==============================] - 0s 213ms/step\n"
     ]
    }
   ],
   "source": [
    "import dash\n",
    "import dash_core_components as dcc\n",
    "import dash_html_components as html\n",
    "from dash.dependencies import Input, Output, State\n",
    "import base64\n",
    "import io\n",
    "import numpy as np\n",
    "import tensorflow as tf\n",
    "from PIL import Image\n",
    "import os\n",
    "\n",
    "# Charger le modèle de deep learning pré-entraîné\n",
    "model_path = \"model.keras\"  # Remplacez par le chemin vers votre modèle\n",
    "model = tf.keras.models.load_model(model_path)\n",
    "\n",
    "# Initialiser l'application Dash\n",
    "app = dash.Dash(__name__)\n",
    "\n",
    "# Définir la mise en page de l'application\n",
    "app.layout = html.Div([\n",
    "    html.H1(\"Prediction app\", style = {'text-align': 'center'}),\n",
    "    dcc.Upload(\n",
    "        id=\"upload-image\",\n",
    "        children=html.Button(\"Upload an image\", style = {'width': '150px', 'margin': '5px', 'padding': '8px',\n",
    "                           'background-color': 'rgb(93, 93, 208)', 'border-radius': '10px'}),\n",
    "        multiple=False,\n",
    "        style = {'display': 'flex', 'justify-content': 'center', 'align-items': 'center'}\n",
    "    ),\n",
    "    html.Div(id=\"output-image\", style = {'display': 'flex', 'justify-content': 'center', 'align-items': 'center'}),\n",
    "    \n",
    "    # Définir la mise en page de l'application\n",
    "    html.Div(\n",
    "            children=[\n",
    "                html.Button('Predict', id='predict-button', style = {'width': '150px', 'margin': '5px', 'padding': '8px',\n",
    "                           'background-color': 'rgb(22, 171, 22)', 'border-radius': '10px'})\n",
    "                ], style = {'display': 'flex', 'justify-content': 'center', 'align-items': 'center'}),\n",
    "    \n",
    "    # Définir la mise en page de l'application\n",
    "   # html.Button(\"Prédire\", id=\"predict-button\"),\n",
    "    html.Div(id=\"prediction-output\", style = {'display': 'flex', 'justify-content': 'center', 'align-items': 'center'})\n",
    "],\n",
    "  style = {\n",
    "        'border': '1px solid black',\n",
    "        'width': '600px',\n",
    "        'position': 'relative',\n",
    "        'position': 'absolute',\n",
    "        'top': '50%', \n",
    "        'left': '50%',\n",
    "        'transform': 'translate(-50%,-50%)',\n",
    "        'padding-left': '10px',\n",
    "        'padding-right': '10px',\n",
    "        'background-color': 'antiquewhite'\n",
    "    }\n",
    "\n",
    ")\n",
    "\n",
    "# Stocker le chemin absolu de l'image téléchargée\n",
    "uploaded_image_path = None\n",
    "\n",
    "# Callback pour gérer le téléchargement d'images\n",
    "@app.callback(\n",
    "    Output(\"output-image\", \"children\"),\n",
    "    Input(\"upload-image\", \"contents\"),\n",
    "    State(\"upload-image\", \"filename\")\n",
    ")\n",
    "def update_image(contents, filename):\n",
    "    global uploaded_image_path\n",
    "    if contents is not None:\n",
    "        image = base64.b64decode(contents.split(\",\")[1])\n",
    "        img = Image.open(io.BytesIO(image))\n",
    "        img = img.resize((120, 200))  # Redimensionner l'image\n",
    "        uploaded_image_path = os.path.abspath(filename)  # Stocker le chemin absolu\n",
    "        return html.Img(src=contents, style={\"width\": \"30%\"})\n",
    "\n",
    "# Callback pour gérer la prédiction\n",
    "@app.callback(\n",
    "    Output(\"prediction-output\", \"children\"),\n",
    "    Input(\"predict-button\", \"n_clicks\"),\n",
    ")\n",
    "def predict_image(n_clicks):\n",
    "    global uploaded_image_path\n",
    "    if uploaded_image_path is not None:\n",
    "        # Define image dimensions and batch size\n",
    "        img_height, img_width = 180, 180\n",
    "        img = tf.keras.preprocessing.image.load_img(uploaded_image_path, target_size=(img_height, img_width))\n",
    "        img_array = tf.keras.preprocessing.image.img_to_array(img)\n",
    "        img_array = tf.expand_dims(img_array, 0)  # Create a batch\n",
    "        # Interpret the predictions\n",
    "        predictions = model.predict(img_array)\n",
    "        class_names = [\"Adult\", \"Child\"]\n",
    "        predicted_class_index = np.argmax(predictions)\n",
    "        predicted_class = class_names[predicted_class_index]\n",
    "        return html.H3(f\"Prediction : {predicted_class}\")\n",
    "\n",
    "if __name__ == \"__main__\":\n",
    "    app.run_server(debug=True)"
   ]
  },
  {
   "cell_type": "code",
   "execution_count": null,
   "id": "963f6e97",
   "metadata": {},
   "outputs": [],
   "source": []
  }
 ],
 "metadata": {
  "kernelspec": {
   "display_name": "Python 3",
   "language": "python",
   "name": "python3"
  },
  "language_info": {
   "codemirror_mode": {
    "name": "ipython",
    "version": 3
   },
   "file_extension": ".py",
   "mimetype": "text/x-python",
   "name": "python",
   "nbconvert_exporter": "python",
   "pygments_lexer": "ipython3",
   "version": "3.8.8"
  }
 },
 "nbformat": 4,
 "nbformat_minor": 5
}
