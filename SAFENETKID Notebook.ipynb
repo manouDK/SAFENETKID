{
 "cells": [
  {
   "cell_type": "code",
   "execution_count": 1,
   "id": "72ccba86",
   "metadata": {},
   "outputs": [],
   "source": [
    "# Loading modules\n",
    "import matplotlib.pyplot as plt\n",
    "import numpy as np\n",
    "import tensorflow as tf\n",
    "from tensorflow.keras.layers import Flatten, Dense\n",
    "from tensorflow.keras.models import Sequential\n",
    "from tensorflow.keras.optimizers import Adam\n",
    "import pathlib\n",
    "import os\n",
    "from tensorflow.keras.preprocessing.image import ImageDataGenerator"
   ]
  },
  {
   "cell_type": "code",
   "execution_count": 12,
   "id": "419b091d",
   "metadata": {},
   "outputs": [
    {
     "name": "stdout",
     "output_type": "stream",
     "text": [
      "dataset\n",
      "C:\\Users\\STAEL TADONTSA\\Desktop\\DL\\dataset\n"
     ]
    }
   ],
   "source": [
    "# Path Verification\n",
    "data_dir = pathlib.Path('dataset')\n",
    "print(data_dir)\n",
    "print(os.path.abspath(data_dir))"
   ]
  },
  {
   "cell_type": "code",
   "execution_count": 13,
   "id": "ddcd5e38",
   "metadata": {},
   "outputs": [
    {
     "name": "stdout",
     "output_type": "stream",
     "text": [
      "286\n"
     ]
    }
   ],
   "source": [
    "# Data quantity verification\n",
    "image_count = len(list(data_dir.glob('*/*')))\n",
    "print(image_count)"
   ]
  },
  {
   "cell_type": "code",
   "execution_count": 17,
   "id": "7237ac5b",
   "metadata": {},
   "outputs": [
    {
     "name": "stdout",
     "output_type": "stream",
     "text": [
      "Found 286 files belonging to 2 classes.\n",
      "Using 201 files for training.\n",
      "Found 286 files belonging to 2 classes.\n",
      "Using 85 files for validation.\n"
     ]
    }
   ],
   "source": [
    "# Define image dimensions and batch size\n",
    "img_height, img_width = 180, 180\n",
    "batch_size = 32\n",
    "\n",
    "# Load the training dataset\n",
    "train_ds = tf.keras.preprocessing.image_dataset_from_directory(\n",
    "    data_dir,\n",
    "    validation_split=0.3,\n",
    "    subset=\"training\",\n",
    "    seed=123,\n",
    "    image_size=(img_height, img_width),\n",
    "    batch_size=batch_size,\n",
    "    label_mode='binary'  \n",
    ")\n",
    "\n",
    "# Load the validation dataset\n",
    "val_ds = tf.keras.preprocessing.image_dataset_from_directory(\n",
    "    data_dir,\n",
    "    validation_split=0.3,\n",
    "    subset=\"validation\",\n",
    "    seed=123,\n",
    "    image_size=(img_height, img_width),\n",
    "    batch_size=batch_size,\n",
    "    label_mode='binary' \n",
    ")"
   ]
  },
  {
   "cell_type": "code",
   "execution_count": 18,
   "id": "a109f90d",
   "metadata": {},
   "outputs": [],
   "source": [
    "# Use ResNet50 as base model\n",
    "base_model = tf.keras.applications.ResNet50(\n",
    "    include_top=False,\n",
    "    weights='imagenet',\n",
    "    input_shape=(img_height, img_width, 3)\n",
    ")"
   ]
  },
  {
   "cell_type": "code",
   "execution_count": 19,
   "id": "61791d93",
   "metadata": {},
   "outputs": [],
   "source": [
    "# Freeze the layers of the base model\n",
    "base_model.trainable = False"
   ]
  },
  {
   "cell_type": "code",
   "execution_count": 23,
   "id": "295e6434",
   "metadata": {},
   "outputs": [],
   "source": [
    "# Create a new model\n",
    "model = Sequential([\n",
    "    base_model,\n",
    "    Flatten(),\n",
    "    Dense(16, activation='relu'),\n",
    "    Dense(2, activation='softmax')  \n",
    "])"
   ]
  },
  {
   "cell_type": "code",
   "execution_count": 24,
   "id": "3f1e05a7",
   "metadata": {},
   "outputs": [],
   "source": [
    "# Compile the model\n",
    "model.compile(\n",
    "    optimizer=Adam(),\n",
    "    loss='sparse_categorical_crossentropy',\n",
    "    metrics=['accuracy']\n",
    ")"
   ]
  },
  {
   "cell_type": "code",
   "execution_count": 25,
   "id": "6dc8434b",
   "metadata": {},
   "outputs": [
    {
     "name": "stdout",
     "output_type": "stream",
     "text": [
      "Epoch 1/4\n",
      "7/7 [==============================] - 14s 2s/step - loss: 1.8928 - accuracy: 0.5522 - val_loss: 0.4712 - val_accuracy: 0.8471\n",
      "Epoch 2/4\n",
      "7/7 [==============================] - 12s 2s/step - loss: 0.5208 - accuracy: 0.7612 - val_loss: 0.5367 - val_accuracy: 0.6118\n",
      "Epoch 3/4\n",
      "7/7 [==============================] - 13s 2s/step - loss: 0.4186 - accuracy: 0.8060 - val_loss: 0.3616 - val_accuracy: 0.8000\n",
      "Epoch 4/4\n",
      "7/7 [==============================] - 13s 2s/step - loss: 0.2919 - accuracy: 0.9104 - val_loss: 0.2544 - val_accuracy: 0.8706\n"
     ]
    }
   ],
   "source": [
    "# Train the model\n",
    "history = model.fit(train_ds, validation_data=val_ds, epochs=4)"
   ]
  },
  {
   "cell_type": "code",
   "execution_count": 27,
   "id": "64abbbc3",
   "metadata": {},
   "outputs": [
    {
     "data": {
      "image/png": "[encoded data removed]",
      "text/plain": [
       "<Figure size 576x576 with 1 Axes>"
      ]
     },
     "metadata": {
      "needs_background": "light"
     },
     "output_type": "display_data"
    }
   ],
   "source": [
    "# Plot training history\n",
    "plt.figure(figsize=(8, 8))\n",
    "epochs_range = range(4)\n",
    "plt.plot(epochs_range, history.history['accuracy'], label=\"Training Accuracy\")\n",
    "plt.plot(epochs_range, history.history['val_accuracy'], label=\"Validation Accuracy\")\n",
    "plt.axis(ymin=0.4, ymax=1)\n",
    "plt.grid()\n",
    "plt.title('Model Accuracy')\n",
    "plt.ylabel('Accuracy')\n",
    "plt.xlabel('Epochs')\n",
    "plt.legend(['train', 'validation'])\n",
    "plt.show()"
   ]
  },
  {
   "cell_type": "code",
   "execution_count": 28,
   "id": "e7018085",
   "metadata": {},
   "outputs": [],
   "source": [
    "# Save the model\n",
    "model.save(\"model.keras\")"
   ]
  },
  {
   "cell_type": "code",
   "execution_count": 29,
   "id": "0847d577",
   "metadata": {},
   "outputs": [],
   "source": [
    "# Make predictions on a sample image\n",
    "image_path = \"mv.jpg\"\n",
    "img = tf.keras.preprocessing.image.load_img(image_path, target_size=(img_height, img_width))\n",
    "img_array = tf.keras.preprocessing.image.img_to_array(img)\n",
    "img_array = tf.expand_dims(img_array, 0)  # Create a batch"
   ]
  },
  {
   "cell_type": "code",
   "execution_count": 30,
   "id": "fbd6ca69",
   "metadata": {},
   "outputs": [
    {
     "name": "stdout",
     "output_type": "stream",
     "text": [
      "1/1 [==============================] - 1s 669ms/step\n"
     ]
    }
   ],
   "source": [
    "predictions = model.predict(img_array)"
   ]
  },
  {
   "cell_type": "code",
   "execution_count": 31,
   "id": "2e1fe104",
   "metadata": {},
   "outputs": [
    {
     "name": "stdout",
     "output_type": "stream",
     "text": [
      "Predicted class: Adulte\n"
     ]
    }
   ],
   "source": [
    "# Interpret the predictions\n",
    "class_names = [\"Adulte\", \"Enfant\"]\n",
    "predicted_class_index = np.argmax(predictions)\n",
    "predicted_class = class_names[predicted_class_index]\n",
    "print(\"Predicted class:\", predicted_class)"
   ]
  },
  {
   "cell_type": "code",
   "execution_count": null,
   "id": "381af300",
   "metadata": {},
   "outputs": [],
   "source": []
  },
  {
   "cell_type": "code",
   "execution_count": null,
   "id": "c40a2887",
   "metadata": {},
   "outputs": [],
   "source": []
  }
 ],
 "metadata": {
  "kernelspec": {
   "display_name": "Python 3",
   "language": "python",
   "name": "python3"
  },
  "language_info": {
   "codemirror_mode": {
    "name": "ipython",
    "version": 3
   },
   "file_extension": ".py",
   "mimetype": "text/x-python",
   "name": "python",
   "nbconvert_exporter": "python",
   "pygments_lexer": "ipython3",
   "version": "3.8.8"
  }
 },
 "nbformat": 4,
 "nbformat_minor": 5
}
